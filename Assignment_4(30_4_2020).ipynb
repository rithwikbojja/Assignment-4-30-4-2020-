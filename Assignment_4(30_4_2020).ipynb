{
  "nbformat": 4,
  "nbformat_minor": 0,
  "metadata": {
    "colab": {
      "name": "Assignment 4(30-4-2020).ipynb",
      "provenance": []
    },
    "kernelspec": {
      "name": "python3",
      "display_name": "Python 3"
    }
  },
  "cells": [
    {
      "cell_type": "code",
      "metadata": {
        "id": "gKOhv2K-NsC8",
        "colab_type": "code",
        "colab": {}
      },
      "source": [
        "\n",
        "f=open(\"ss.txt\",\"w\")\n",
        "f.write(\"hello everyone\")\n",
        "f.close()"
      ],
      "execution_count": 0,
      "outputs": []
    },
    {
      "cell_type": "code",
      "metadata": {
        "id": "iwvBwnGaNtV1",
        "colab_type": "code",
        "colab": {
          "base_uri": "https://localhost:8080/",
          "height": 68
        },
        "outputId": "6efe9964-0a23-407e-e9f6-08d992755089"
      },
      "source": [
        "\n",
        "# Count the no.of words,no.of letters,no.of lines available in your file\n",
        "\n",
        "\n",
        "with open('ss.txt') as infile:\n",
        "    lines=0\n",
        "    words=0\n",
        "    characters=0\n",
        "    for line in infile:\n",
        "        wordslist=line.split()\n",
        "        lines=lines+1\n",
        "        words=words+len(wordslist)\n",
        "        characters += sum(len(word) for word in wordslist)\n",
        "print(lines)\n",
        "print(words)\n",
        "print(characters)"
      ],
      "execution_count": 2,
      "outputs": [
        {
          "output_type": "stream",
          "text": [
            "1\n",
            "2\n",
            "13\n"
          ],
          "name": "stdout"
        }
      ]
    },
    {
      "cell_type": "code",
      "metadata": {
        "id": "yyveSImFNtZL",
        "colab_type": "code",
        "colab": {}
      },
      "source": [
        "# Copy the content of one file to another\n",
        "\n",
        "with open(\"ss.txt\") as f:\n",
        "    with open(\"cap.txt\", \"w\") as f1:\n",
        "        for line in f:\n",
        "            f1.write(line)"
      ],
      "execution_count": 0,
      "outputs": []
    },
    {
      "cell_type": "code",
      "metadata": {
        "id": "2xhxq2IiNtb8",
        "colab_type": "code",
        "colab": {
          "base_uri": "https://localhost:8080/",
          "height": 34
        },
        "outputId": "c2c45ee5-65a5-4e41-a2e8-545041de3e7c"
      },
      "source": [
        "# Copy the content of one file to another\n",
        "\n",
        "f=open(\"cap.txt\",\"r\")\n",
        "data=f.read()\n",
        "print(data)\n",
        "f.close()"
      ],
      "execution_count": 4,
      "outputs": [
        {
          "output_type": "stream",
          "text": [
            "hello everyone\n"
          ],
          "name": "stdout"
        }
      ]
    },
    {
      "cell_type": "code",
      "metadata": {
        "id": "Rp5EXtVrNtfM",
        "colab_type": "code",
        "colab": {}
      },
      "source": [
        "# Rename file\n",
        "import os\n",
        "os.rename( \"cap.txt\", \"test1.txt\" )"
      ],
      "execution_count": 0,
      "outputs": []
    },
    {
      "cell_type": "code",
      "metadata": {
        "id": "vBGq_uz4Ntnu",
        "colab_type": "code",
        "colab": {
          "base_uri": "https://localhost:8080/",
          "height": 34
        },
        "outputId": "c5d3d146-b303-4370-c2f7-c71b3a5139c0"
      },
      "source": [
        "f=open(\"test1.txt\",\"r\")\n",
        "data=f.read()\n",
        "print(data)\n",
        "f.close()"
      ],
      "execution_count": 6,
      "outputs": [
        {
          "output_type": "stream",
          "text": [
            "hello everyone\n"
          ],
          "name": "stdout"
        }
      ]
    },
    {
      "cell_type": "code",
      "metadata": {
        "id": "mxXaKApsOO2k",
        "colab_type": "code",
        "colab": {}
      },
      "source": [
        "\n",
        "# remove file\n",
        "import os\n",
        "os.remove(\"test1.txt\")"
      ],
      "execution_count": 0,
      "outputs": []
    },
    {
      "cell_type": "code",
      "metadata": {
        "id": "72vxDt1COO54",
        "colab_type": "code",
        "colab": {
          "base_uri": "https://localhost:8080/",
          "height": 68
        },
        "outputId": "50aff5eb-f62d-4243-c8d2-f0b7aeb25bc3"
      },
      "source": [
        "#Display the words starting with letter 'p'\n",
        "l=['pencil','pen','potato','orange','apple','mango']\n",
        "for i in l:\n",
        "    if i.startswith(\"p\"):\n",
        "        print(i)"
      ],
      "execution_count": 8,
      "outputs": [
        {
          "output_type": "stream",
          "text": [
            "pencil\n",
            "pen\n",
            "potato\n"
          ],
          "name": "stdout"
        }
      ]
    }
  ]
}